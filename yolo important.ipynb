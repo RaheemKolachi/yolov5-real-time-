{
 "cells": [
  {
   "cell_type": "code",
   "execution_count": 9,
   "id": "93d322ac",
   "metadata": {},
   "outputs": [
    {
     "name": "stderr",
     "output_type": "stream",
     "text": [
      "fatal: destination path 'yolov5' already exists and is not an empty directory.\n",
      "ERROR: Could not open requirements file: [Errno 2] No such file or directory: 'requirements.txt'\n"
     ]
    }
   ],
   "source": [
    "!git clone https://github.com/ultralytics/yolov5\n"
   ]
  },
  {
   "cell_type": "code",
   "execution_count": 10,
   "id": "b5c27a0d",
   "metadata": {},
   "outputs": [
    {
     "name": "stdout",
     "output_type": "stream",
     "text": [
      "C:\\Users\\Raheem Kolachi\\yolov5\n"
     ]
    }
   ],
   "source": [
    "%cd yolov5"
   ]
  },
  {
   "cell_type": "code",
   "execution_count": 19,
   "id": "4c15c748",
   "metadata": {},
   "outputs": [
    {
     "name": "stdout",
     "output_type": "stream",
     "text": [
      "Requirement already satisfied: matplotlib>=3.2.2 in c:\\users\\raheem kolachi\\anaconda3\\lib\\site-packages (from -r requirements.txt (line 5)) (3.4.3)\n",
      "Requirement already satisfied: numpy>=1.18.5 in c:\\users\\raheem kolachi\\anaconda3\\lib\\site-packages (from -r requirements.txt (line 6)) (1.20.3)\n",
      "Requirement already satisfied: opencv-python>=4.1.1 in c:\\users\\raheem kolachi\\anaconda3\\lib\\site-packages (from -r requirements.txt (line 7)) (4.5.5.64)\n",
      "Requirement already satisfied: Pillow>=7.1.2 in c:\\users\\raheem kolachi\\anaconda3\\lib\\site-packages (from -r requirements.txt (line 8)) (8.4.0)\n",
      "Requirement already satisfied: PyYAML>=5.3.1 in c:\\users\\raheem kolachi\\anaconda3\\lib\\site-packages (from -r requirements.txt (line 9)) (6.0)\n",
      "Requirement already satisfied: requests>=2.23.0 in c:\\users\\raheem kolachi\\anaconda3\\lib\\site-packages (from -r requirements.txt (line 10)) (2.26.0)\n",
      "Requirement already satisfied: scipy>=1.4.1 in c:\\users\\raheem kolachi\\anaconda3\\lib\\site-packages (from -r requirements.txt (line 11)) (1.7.1)\n",
      "Requirement already satisfied: torch>=1.7.0 in c:\\users\\raheem kolachi\\anaconda3\\lib\\site-packages (from -r requirements.txt (line 12)) (1.12.1)\n",
      "Requirement already satisfied: torchvision>=0.8.1 in c:\\users\\raheem kolachi\\anaconda3\\lib\\site-packages (from -r requirements.txt (line 13)) (0.13.1)\n",
      "Requirement already satisfied: tqdm>=4.64.0 in c:\\users\\raheem kolachi\\anaconda3\\lib\\site-packages (from -r requirements.txt (line 14)) (4.64.0)\n",
      "Requirement already satisfied: protobuf<=3.20.1 in c:\\users\\raheem kolachi\\anaconda3\\lib\\site-packages (from -r requirements.txt (line 15)) (3.19.4)\n",
      "Requirement already satisfied: tensorboard>=2.4.1 in c:\\users\\raheem kolachi\\anaconda3\\lib\\site-packages (from -r requirements.txt (line 18)) (2.9.1)\n",
      "Requirement already satisfied: pandas>=1.1.4 in c:\\users\\raheem kolachi\\anaconda3\\lib\\site-packages (from -r requirements.txt (line 23)) (1.3.4)\n",
      "Requirement already satisfied: seaborn>=0.11.0 in c:\\users\\raheem kolachi\\anaconda3\\lib\\site-packages (from -r requirements.txt (line 24)) (0.11.2)\n",
      "Requirement already satisfied: ipython in c:\\users\\raheem kolachi\\anaconda3\\lib\\site-packages (from -r requirements.txt (line 38)) (7.29.0)\n",
      "Requirement already satisfied: psutil in c:\\users\\raheem kolachi\\anaconda3\\lib\\site-packages (from -r requirements.txt (line 39)) (5.8.0)\n",
      "Requirement already satisfied: thop>=0.1.1 in c:\\users\\raheem kolachi\\anaconda3\\lib\\site-packages (from -r requirements.txt (line 40)) (0.1.1.post2207130030)\n",
      "Requirement already satisfied: pyparsing>=2.2.1 in c:\\users\\raheem kolachi\\anaconda3\\lib\\site-packages (from matplotlib>=3.2.2->-r requirements.txt (line 5)) (3.0.4)\n",
      "Requirement already satisfied: kiwisolver>=1.0.1 in c:\\users\\raheem kolachi\\anaconda3\\lib\\site-packages (from matplotlib>=3.2.2->-r requirements.txt (line 5)) (1.3.1)\n",
      "Requirement already satisfied: python-dateutil>=2.7 in c:\\users\\raheem kolachi\\anaconda3\\lib\\site-packages (from matplotlib>=3.2.2->-r requirements.txt (line 5)) (2.8.2)\n",
      "Requirement already satisfied: cycler>=0.10 in c:\\users\\raheem kolachi\\anaconda3\\lib\\site-packages (from matplotlib>=3.2.2->-r requirements.txt (line 5)) (0.10.0)\n",
      "Requirement already satisfied: idna<4,>=2.5 in c:\\users\\raheem kolachi\\anaconda3\\lib\\site-packages (from requests>=2.23.0->-r requirements.txt (line 10)) (3.2)\n",
      "Requirement already satisfied: certifi>=2017.4.17 in c:\\users\\raheem kolachi\\anaconda3\\lib\\site-packages (from requests>=2.23.0->-r requirements.txt (line 10)) (2021.10.8)\n",
      "Requirement already satisfied: urllib3<1.27,>=1.21.1 in c:\\users\\raheem kolachi\\anaconda3\\lib\\site-packages (from requests>=2.23.0->-r requirements.txt (line 10)) (1.26.7)\n",
      "Requirement already satisfied: charset-normalizer~=2.0.0 in c:\\users\\raheem kolachi\\anaconda3\\lib\\site-packages (from requests>=2.23.0->-r requirements.txt (line 10)) (2.0.4)\n",
      "Requirement already satisfied: typing-extensions in c:\\users\\raheem kolachi\\anaconda3\\lib\\site-packages (from torch>=1.7.0->-r requirements.txt (line 12)) (3.10.0.2)\n",
      "Requirement already satisfied: colorama in c:\\users\\raheem kolachi\\anaconda3\\lib\\site-packages (from tqdm>=4.64.0->-r requirements.txt (line 14)) (0.4.4)\n",
      "Requirement already satisfied: markdown>=2.6.8 in c:\\users\\raheem kolachi\\anaconda3\\lib\\site-packages (from tensorboard>=2.4.1->-r requirements.txt (line 18)) (3.3.7)\n",
      "Requirement already satisfied: tensorboard-plugin-wit>=1.6.0 in c:\\users\\raheem kolachi\\anaconda3\\lib\\site-packages (from tensorboard>=2.4.1->-r requirements.txt (line 18)) (1.8.1)\n",
      "Requirement already satisfied: grpcio>=1.24.3 in c:\\users\\raheem kolachi\\anaconda3\\lib\\site-packages (from tensorboard>=2.4.1->-r requirements.txt (line 18)) (1.47.0)\n",
      "Requirement already satisfied: google-auth<3,>=1.6.3 in c:\\users\\raheem kolachi\\anaconda3\\lib\\site-packages (from tensorboard>=2.4.1->-r requirements.txt (line 18)) (2.9.0)\n",
      "Requirement already satisfied: werkzeug>=1.0.1 in c:\\users\\raheem kolachi\\anaconda3\\lib\\site-packages (from tensorboard>=2.4.1->-r requirements.txt (line 18)) (2.0.2)\n",
      "Requirement already satisfied: tensorboard-data-server<0.7.0,>=0.6.0 in c:\\users\\raheem kolachi\\anaconda3\\lib\\site-packages (from tensorboard>=2.4.1->-r requirements.txt (line 18)) (0.6.1)\n",
      "Requirement already satisfied: setuptools>=41.0.0 in c:\\users\\raheem kolachi\\anaconda3\\lib\\site-packages (from tensorboard>=2.4.1->-r requirements.txt (line 18)) (58.0.4)\n",
      "Requirement already satisfied: google-auth-oauthlib<0.5,>=0.4.1 in c:\\users\\raheem kolachi\\anaconda3\\lib\\site-packages (from tensorboard>=2.4.1->-r requirements.txt (line 18)) (0.4.6)\n",
      "Requirement already satisfied: absl-py>=0.4 in c:\\users\\raheem kolachi\\appdata\\roaming\\python\\python39\\site-packages (from tensorboard>=2.4.1->-r requirements.txt (line 18)) (1.0.0)\n",
      "Requirement already satisfied: wheel>=0.26 in c:\\users\\raheem kolachi\\anaconda3\\lib\\site-packages (from tensorboard>=2.4.1->-r requirements.txt (line 18)) (0.37.0)\n",
      "Requirement already satisfied: pytz>=2017.3 in c:\\users\\raheem kolachi\\anaconda3\\lib\\site-packages (from pandas>=1.1.4->-r requirements.txt (line 23)) (2021.3)\n",
      "Requirement already satisfied: jedi>=0.16 in c:\\users\\raheem kolachi\\anaconda3\\lib\\site-packages (from ipython->-r requirements.txt (line 38)) (0.18.0)\n",
      "Requirement already satisfied: pickleshare in c:\\users\\raheem kolachi\\anaconda3\\lib\\site-packages (from ipython->-r requirements.txt (line 38)) (0.7.5)\n",
      "Requirement already satisfied: pygments in c:\\users\\raheem kolachi\\anaconda3\\lib\\site-packages (from ipython->-r requirements.txt (line 38)) (2.10.0)\n",
      "Requirement already satisfied: matplotlib-inline in c:\\users\\raheem kolachi\\anaconda3\\lib\\site-packages (from ipython->-r requirements.txt (line 38)) (0.1.2)\n",
      "Requirement already satisfied: traitlets>=4.2 in c:\\users\\raheem kolachi\\anaconda3\\lib\\site-packages (from ipython->-r requirements.txt (line 38)) (5.1.0)\n",
      "Requirement already satisfied: backcall in c:\\users\\raheem kolachi\\anaconda3\\lib\\site-packages (from ipython->-r requirements.txt (line 38)) (0.2.0)\n",
      "Requirement already satisfied: decorator in c:\\users\\raheem kolachi\\anaconda3\\lib\\site-packages (from ipython->-r requirements.txt (line 38)) (5.1.0)\n",
      "Requirement already satisfied: prompt-toolkit!=3.0.0,!=3.0.1,<3.1.0,>=2.0.0 in c:\\users\\raheem kolachi\\anaconda3\\lib\\site-packages (from ipython->-r requirements.txt (line 38)) (3.0.20)\n",
      "Requirement already satisfied: six in c:\\users\\raheem kolachi\\anaconda3\\lib\\site-packages (from absl-py>=0.4->tensorboard>=2.4.1->-r requirements.txt (line 18)) (1.16.0)\n",
      "Requirement already satisfied: cachetools<6.0,>=2.0.0 in c:\\users\\raheem kolachi\\anaconda3\\lib\\site-packages (from google-auth<3,>=1.6.3->tensorboard>=2.4.1->-r requirements.txt (line 18)) (5.2.0)\n",
      "Requirement already satisfied: rsa<5,>=3.1.4 in c:\\users\\raheem kolachi\\anaconda3\\lib\\site-packages (from google-auth<3,>=1.6.3->tensorboard>=2.4.1->-r requirements.txt (line 18)) (4.8)\n",
      "Requirement already satisfied: pyasn1-modules>=0.2.1 in c:\\users\\raheem kolachi\\anaconda3\\lib\\site-packages (from google-auth<3,>=1.6.3->tensorboard>=2.4.1->-r requirements.txt (line 18)) (0.2.8)\n",
      "Requirement already satisfied: requests-oauthlib>=0.7.0 in c:\\users\\raheem kolachi\\anaconda3\\lib\\site-packages (from google-auth-oauthlib<0.5,>=0.4.1->tensorboard>=2.4.1->-r requirements.txt (line 18)) (1.3.1)\n",
      "Requirement already satisfied: parso<0.9.0,>=0.8.0 in c:\\users\\raheem kolachi\\anaconda3\\lib\\site-packages (from jedi>=0.16->ipython->-r requirements.txt (line 38)) (0.8.2)\n",
      "Requirement already satisfied: importlib-metadata>=4.4 in c:\\users\\raheem kolachi\\anaconda3\\lib\\site-packages (from markdown>=2.6.8->tensorboard>=2.4.1->-r requirements.txt (line 18)) (4.8.1)\n",
      "Requirement already satisfied: wcwidth in c:\\users\\raheem kolachi\\anaconda3\\lib\\site-packages (from prompt-toolkit!=3.0.0,!=3.0.1,<3.1.0,>=2.0.0->ipython->-r requirements.txt (line 38)) (0.2.5)\n",
      "Requirement already satisfied: zipp>=0.5 in c:\\users\\raheem kolachi\\anaconda3\\lib\\site-packages (from importlib-metadata>=4.4->markdown>=2.6.8->tensorboard>=2.4.1->-r requirements.txt (line 18)) (3.6.0)\n",
      "Requirement already satisfied: pyasn1<0.5.0,>=0.4.6 in c:\\users\\raheem kolachi\\anaconda3\\lib\\site-packages (from pyasn1-modules>=0.2.1->google-auth<3,>=1.6.3->tensorboard>=2.4.1->-r requirements.txt (line 18)) (0.4.8)\n",
      "Requirement already satisfied: oauthlib>=3.0.0 in c:\\users\\raheem kolachi\\anaconda3\\lib\\site-packages (from requests-oauthlib>=0.7.0->google-auth-oauthlib<0.5,>=0.4.1->tensorboard>=2.4.1->-r requirements.txt (line 18)) (3.2.0)\n"
     ]
    }
   ],
   "source": [
    "!pip install -r requirements.txt"
   ]
  },
  {
   "cell_type": "code",
   "execution_count": 12,
   "id": "8cd715fb",
   "metadata": {},
   "outputs": [],
   "source": [
    "import torch\n",
    "import utils"
   ]
  },
  {
   "cell_type": "code",
   "execution_count": 13,
   "id": "9d04c530",
   "metadata": {},
   "outputs": [
    {
     "name": "stderr",
     "output_type": "stream",
     "text": [
      "YOLOv5 🚀 2022-8-7 Python-3.9.7 torch-1.12.1+cpu CPU\n"
     ]
    },
    {
     "name": "stdout",
     "output_type": "stream",
     "text": [
      "Setup complete  (4 CPUs, 7.9 GB RAM, 91.8/97.7 GB disk)\n"
     ]
    }
   ],
   "source": [
    "display = utils.notebook_init()"
   ]
  },
  {
   "cell_type": "code",
   "execution_count": 25,
   "id": "e4fdfef0",
   "metadata": {},
   "outputs": [],
   "source": [
    "!python train.py --img 304 --batch 16 --epochs 3 --data customdata.yaml --weights \"yolov5s.pt\" --cache"
   ]
  },
  {
   "cell_type": "code",
   "execution_count": 32,
   "id": "7ec6e103",
   "metadata": {},
   "outputs": [],
   "source": []
  },
  {
   "cell_type": "code",
   "execution_count": null,
   "id": "9e305ba7",
   "metadata": {},
   "outputs": [],
   "source": [
    "!python detect.py --weights best.pt --img 640 --conf 0.35 --source 0\n",
    "#display.Image(filename='runs/detect/exp/zidane.jpg', width=600)"
   ]
  },
  {
   "cell_type": "code",
   "execution_count": null,
   "id": "a5604ca0",
   "metadata": {},
   "outputs": [],
   "source": []
  }
 ],
 "metadata": {
  "kernelspec": {
   "display_name": "Python 3 (ipykernel)",
   "language": "python",
   "name": "python3"
  },
  "language_info": {
   "codemirror_mode": {
    "name": "ipython",
    "version": 3
   },
   "file_extension": ".py",
   "mimetype": "text/x-python",
   "name": "python",
   "nbconvert_exporter": "python",
   "pygments_lexer": "ipython3",
   "version": "3.9.7"
  }
 },
 "nbformat": 4,
 "nbformat_minor": 5
}
